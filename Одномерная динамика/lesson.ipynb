{
 "cells": [
  {
   "cell_type": "markdown",
   "source": [
    "# Решение уравнения\n",
    "Пусть дана функция:\n",
    "\n",
    "y = x^2 - 2 => x = 2 ^ (1/2)\n",
    "\n",
    "Попытаемся найти его решение, но искать мы должны не точное решение, а приблизительно с погрешностью eps:\n",
    "\n",
    "| x' - x | < eps\n",
    "\n",
    "Находим решение при помощи двоичного поиска. Для этого должны выполняться условия:\n",
    "\n",
    "    1) функция непрерывная\n",
    "    2) знать отрезок, концы которого имеют разные знаки\n"
   ],
   "metadata": {
    "collapsed": false
   }
  },
  {
   "cell_type": "code",
   "execution_count": 3,
   "outputs": [
    {
     "name": "stdout",
     "text": [
      "2.0\n"
     ],
     "output_type": "stream"
    }
   ],
   "source": [
    "import random\n",
    "def f(x):\n",
    "    return x**2 - 2\n",
    "\n",
    "eps = 10**(-6)\n",
    "l = 0\n",
    "r = 4\n",
    "while (r - l) > eps:\n",
    "    m = (r + l) / 2\n",
    "    if f(m) > 0:\n",
    "        r = m\n",
    "    else:\n",
    "        l = r\n",
    "print(r)"
   ],
   "metadata": {
    "collapsed": false,
    "pycharm": {
     "name": "#%%\n",
     "is_executing": false
    }
   }
  },
  {
   "cell_type": "markdown",
   "source": [
    "_______________\n",
    "# Задача о кузнейчике\n",
    "#### Условие: \n",
    "    На числовой прямой сидит кузнечик он прыгает на 1 или 2 клетки вперед.\n",
    "    \n",
    "    0..........................................................................n\n",
    "\n",
    "#### Вопрос: \n",
    "    Cколькими способами он может добраться до n клетки?\n",
    "\n",
    "#### Решение:\n",
    "    F(n) - кол-во способов добраться до точки n\n",
    "    Заметим, что F(n) = F(n-1) + F(n-2) - это абсолютно аналогично числам Фибоначи"
   ],
   "metadata": {
    "collapsed": false
   }
  },
  {
   "cell_type": "code",
   "execution_count": 3,
   "outputs": [
    {
     "name": "stdout",
     "text": [
      "n =  10 , F(n) =  89\n"
     ],
     "output_type": "stream"
    }
   ],
   "source": [
    "n = int(input())\n",
    "F = [0] * (n + 1)\n",
    "F[0] = 1\n",
    "F[1] = 1\n",
    "for i in range(2, n + 1):\n",
    "    F[i] = F[i-1] + F[i-2]\n",
    "print('n = ', n , ', F(n) = ', F[n])"
   ],
   "metadata": {
    "collapsed": false,
    "pycharm": {
     "name": "#%%\n",
     "is_executing": false
    }
   }
  },
  {
   "cell_type": "markdown",
   "source": [
    "_______________\n",
    "### Алгоритм реш. задач на дин. программирование:\n",
    "1) Ввести функцию \n",
    "\n",
    "2) Выписать рекурентное соотношение\n",
    "\n",
    "3) Придумать начальные значения функции\n",
    "\n",
    "4) Создать массив для хранения F(n) и записать туда начальные значения\n",
    "\n",
    "5) Циклом заполнить значения массива"
   ],
   "metadata": {
    "collapsed": false,
    "pycharm": {
     "name": "#%% md\n"
    }
   }
  },
  {
   "cell_type": "markdown",
   "source": [
    "_______________\n",
    "# Задача о кузнейчике со стоймостью клеток\n",
    "#### Условие: \n",
    "    На числовой прямой сидит кузнечик он прыгает на 1 или 2 клетки вперед.\n",
    "    \n",
    "    0..........................................................................n\n",
    "    p[i] - стоимость i клетки\n",
    "    F[i] - минимальная стоимость маршрута из точки 0 до i\n",
    "    p[0] = 0\n",
    "\n",
    "#### Вопрос: \n",
    "    Минимальная стоимость p[n] - ? \n",
    "    Найти маршрут минимальной стоймости ?\n",
    "\n",
    "#### Решение:\n",
    "    F[i] = p[i] + min(F[i-1], F[i-2])"
   ],
   "metadata": {
    "collapsed": false
   }
  },
  {
   "cell_type": "code",
   "execution_count": 10,
   "outputs": [
    {
     "name": "stdout",
     "text": [
      "[0, 1, 1, 2, 3, 6, 5, 1, 3, 6, 7]\n[0, 1, 1, 3, 4, 9, 9, 10, 12, 16, 19, -inf]\n"
     ],
     "output_type": "stream"
    }
   ],
   "source": [
    "import random\n",
    "import math\n",
    "\n",
    "n = 10 # может быть любым значением\n",
    "p = [random.randint(1,i + 1) for i in range(0, n+1)]\n",
    "p[0] = 0\n",
    "F = [0] * (n + 2)\n",
    "F[-1] = - math.inf\n",
    "F[1] = p[1]\n",
    "for i in range(2, n + 1):\n",
    "    F[i] = p[i] + min(F[i-1], F[i-2])\n",
    "print(p) # стоимость ячеек\n",
    "print(F) # стоимость пути до ячеек"
   ],
   "metadata": {
    "collapsed": false,
    "pycharm": {
     "name": "#%%\n",
     "is_executing": false
    }
   }
  },
  {
   "cell_type": "markdown",
   "source": [
    "    сейчас мы нашли минимальную стоймость маршрута, сейчас нам нужно сделать восстановление маршрута по ответу"
   ],
   "metadata": {
    "collapsed": false
   }
  },
  {
   "cell_type": "code",
   "execution_count": null,
   "outputs": [],
   "source": [],
   "metadata": {
    "collapsed": false,
    "pycharm": {
     "name": "#%%\n"
    }
   }
  }
 ],
 "metadata": {
  "kernelspec": {
   "display_name": "Python 3",
   "language": "python",
   "name": "python3"
  },
  "language_info": {
   "codemirror_mode": {
    "name": "ipython",
    "version": 2
   },
   "file_extension": ".py",
   "mimetype": "text/x-python",
   "name": "python",
   "nbconvert_exporter": "python",
   "pygments_lexer": "ipython2",
   "version": "2.7.6"
  },
  "pycharm": {
   "stem_cell": {
    "cell_type": "raw",
    "source": [],
    "metadata": {
     "collapsed": false
    }
   }
  }
 },
 "nbformat": 4,
 "nbformat_minor": 0
}