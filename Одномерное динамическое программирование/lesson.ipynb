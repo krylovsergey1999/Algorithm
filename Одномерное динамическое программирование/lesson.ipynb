{
 "cells": [
  {
   "cell_type": "markdown",
   "source": [
    "Пусть дана функция:\n",
    "\n",
    "y = x^2 - 2 => x = 2 ^ (1/2)\n",
    "\n",
    "Попытаемся найти его решение, но искать мы должны не точное решение, а приблизительно с погрешностью eps:\n",
    "\n",
    "| x' - x | < eps\n",
    "\n",
    "Находим решение при помощи двоичного поиска. Для этого должны выполняться условия:\n",
    "\n",
    "    1) функция непрерывная\n",
    "    2) знать отрезок, концы которого имеют разные знаки\n"
   ],
   "metadata": {
    "collapsed": false
   }
  },
  {
   "cell_type": "code",
   "execution_count": 3,
   "outputs": [
    {
     "name": "stdout",
     "text": [
      "2.0\n"
     ],
     "output_type": "stream"
    }
   ],
   "source": [
    "def f(x):\n",
    "    return x**2 - 2\n",
    "\n",
    "eps = 10**(-6)\n",
    "l = 0\n",
    "r = 4\n",
    "while (r - l) > eps:\n",
    "    m = (r + l) / 2\n",
    "    if f(m) > 0:\n",
    "        r = m\n",
    "    else:\n",
    "        l = r\n",
    "print(r)"
   ],
   "metadata": {
    "collapsed": false,
    "pycharm": {
     "name": "#%%\n",
     "is_executing": false
    }
   }
  }
 ],
 "metadata": {
  "kernelspec": {
   "display_name": "Python 3",
   "language": "python",
   "name": "python3"
  },
  "language_info": {
   "codemirror_mode": {
    "name": "ipython",
    "version": 2
   },
   "file_extension": ".py",
   "mimetype": "text/x-python",
   "name": "python",
   "nbconvert_exporter": "python",
   "pygments_lexer": "ipython2",
   "version": "2.7.6"
  },
  "pycharm": {
   "stem_cell": {
    "cell_type": "raw",
    "source": [],
    "metadata": {
     "collapsed": false
    }
   }
  }
 },
 "nbformat": 4,
 "nbformat_minor": 0
}